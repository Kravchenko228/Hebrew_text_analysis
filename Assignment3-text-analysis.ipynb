{
 "cells": [
  {
   "cell_type": "markdown",
   "metadata": {},
   "source": [
    "# Assignment 3 - Text Analysis\n",
    "An explanation this assignment could be found in the .pdf explanation document"
   ]
  },
  {
   "cell_type": "markdown",
   "metadata": {},
   "source": [
    "\n",
    "## Materials to review for this assignment\n",
    "<h4>From Moodle:</h4> \n",
    "<h5><u>Review the notebooks regarding the following python topics</u>:</h5>\n",
    "<div class=\"alert alert-info\">\n",
    "&#x2714; <b>Working with strings</b> (tutorial notebook)<br/>\n",
    "&#x2714; <b>Text Analysis</b> (tutorial notebook)<br/>\n",
    "&#x2714; <b>Hebrew text analysis tools (tokenizer, wordnet)</b> (moodle example)<br/>\n",
    "&#x2714; <b>(brief review) All previous notebooks</b><br/>\n",
    "</div> \n",
    "<h5><u>Review the presentations regarding the following topics</u>:</h5>\n",
    "<div class=\"alert alert-info\">\n",
    "&#x2714; <b>Text Analysis</b> (lecture presentation)<br/>\n",
    "&#x2714; <b>(brief review) All other presentations</b><br/>\n",
    "</div>"
   ]
  },
  {
   "cell_type": "markdown",
   "metadata": {},
   "source": [
    "## Personal Details:"
   ]
  },
  {
   "cell_type": "code",
   "execution_count": 27,
   "metadata": {
    "ExecuteTime": {
     "end_time": "2023-08-19T17:41:05.879545600Z",
     "start_time": "2023-08-19T17:41:04.614618900Z"
    }
   },
   "outputs": [],
   "source": [
    "# Details Student 1:Kravchenko Georgiy 342483179\n",
    "\n",
    "# Details Student 2:\n"
   ]
  },
  {
   "cell_type": "markdown",
   "metadata": {},
   "source": [
    "## Preceding Step - import modules (packages)\n",
    "This step is necessary in order to use external modules (packages). <br/>"
   ]
  },
  {
   "cell_type": "code",
   "execution_count": 28,
   "metadata": {
    "ExecuteTime": {
     "end_time": "2023-08-19T17:41:05.887547400Z",
     "start_time": "2023-08-19T17:41:04.720757600Z"
    }
   },
   "outputs": [],
   "source": [
    "# --------------------------------------\n",
    "import pandas as pd\n",
    "import numpy as np\n",
    "# --------------------------------------\n",
    "\n",
    "\n",
    "# --------------------------------------\n",
    "# ------------- visualizations:\n",
    "import seaborn as sns\n",
    "import matplotlib.pyplot as plt\n",
    "from matplotlib.colors import ListedColormap\n",
    "# --------------------------------------\n",
    "\n",
    "\n",
    "# ---------------------------------------\n",
    "import sklearn\n",
    "from sklearn import preprocessing, metrics, pipeline, model_selection, feature_extraction \n",
    "from sklearn import naive_bayes, linear_model, svm, neural_network, neighbors, tree\n",
    "from sklearn import decomposition, cluster\n",
    "\n",
    "from sklearn.model_selection import train_test_split, cross_val_score, GridSearchCV \n",
    "from sklearn.pipeline import Pipeline\n",
    "from sklearn.metrics import accuracy_score, confusion_matrix\n",
    "from sklearn.metrics import precision_score, recall_score, f1_score\n",
    "from sklearn.metrics import mean_squared_error, r2_score, silhouette_score\n",
    "from sklearn.preprocessing import MinMaxScaler, StandardScaler, LabelEncoder\n",
    "\n",
    "from sklearn.svm import LinearSVC\n",
    "from sklearn.neural_network import MLPClassifier\n",
    "from sklearn.linear_model import Perceptron, SGDClassifier\n",
    "from sklearn.decomposition import PCA\n",
    "from sklearn.cluster import KMeans\n",
    "from sklearn.naive_bayes import MultinomialNB, GaussianNB\n",
    "from sklearn.neighbors import KNeighborsClassifier\n",
    "from sklearn.tree import DecisionTreeClassifier\n",
    "# ---------------------------------------\n",
    "\n",
    "\n",
    "# ----------------- output and visualizations: \n",
    "import warnings\n",
    "from sklearn.exceptions import ConvergenceWarning\n",
    "warnings.simplefilter(\"ignore\")\n",
    "warnings.simplefilter(action='ignore', category=FutureWarning)\n",
    "warnings.simplefilter(\"ignore\", category=ConvergenceWarning)\n",
    "# show several prints in one cell. This will allow us to condence every trick in one cell.\n",
    "from IPython.core.interactiveshell import InteractiveShell\n",
    "InteractiveShell.ast_node_interactivity = \"all\"\n",
    "%matplotlib inline\n",
    "pd.pandas.set_option('display.max_columns', None)\n",
    "pd.set_option('display.float_format', lambda x: '%.3f' % x)\n",
    "# ---------------------------------------"
   ]
  },
  {
   "cell_type": "markdown",
   "metadata": {},
   "source": [
    "### Text analysis and String manipulation imports:"
   ]
  },
  {
   "cell_type": "code",
   "execution_count": 29,
   "metadata": {
    "ExecuteTime": {
     "end_time": "2023-08-19T17:41:05.887547400Z",
     "start_time": "2023-08-19T17:41:04.885418700Z"
    }
   },
   "outputs": [],
   "source": [
    "# --------------------------------------\n",
    "# --------- Text analysis and Hebrew text analysis imports:\n",
    "# vectorizers:\n",
    "from sklearn.feature_extraction import text\n",
    "from sklearn.feature_extraction.text import CountVectorizer, TfidfVectorizer\n",
    "\n",
    "# regular expressions:\n",
    "import re\n",
    "# --------------------------------------"
   ]
  },
  {
   "cell_type": "markdown",
   "metadata": {},
   "source": [
    "### (optional) Hebrew text analysis - WordNet (for Hebrew)\n",
    "Note: the WordNet is not a must"
   ]
  },
  {
   "cell_type": "markdown",
   "metadata": {},
   "source": [
    "#### (optional) Only if you didn't install Wordnet (for Hebrew) use:"
   ]
  },
  {
   "cell_type": "code",
   "execution_count": 30,
   "metadata": {
    "ExecuteTime": {
     "end_time": "2023-08-19T17:41:05.887547400Z",
     "start_time": "2023-08-19T17:41:04.914437Z"
    }
   },
   "outputs": [],
   "source": [
    "# word net installation:\n",
    "\n",
    "# unmark if you want to use and need to install\n",
    "# !pip install wn\n",
    "# !python -m wn download omw-he:1.4"
   ]
  },
  {
   "cell_type": "code",
   "execution_count": 31,
   "metadata": {
    "ExecuteTime": {
     "end_time": "2023-08-19T17:41:05.887547400Z",
     "start_time": "2023-08-19T17:41:04.930081900Z"
    }
   },
   "outputs": [],
   "source": [
    "# word net import:\n",
    "\n",
    "# unmark if you want to use:\n",
    "# import wn"
   ]
  },
  {
   "cell_type": "markdown",
   "metadata": {},
   "source": [
    "### (optional) Hebrew text analysis - hebrew_tokenizer (Tokenizer for Hebrew)\n",
    "Note: the hebrew_tokenizer is not a must"
   ]
  },
  {
   "cell_type": "markdown",
   "metadata": {},
   "source": [
    "#### (optional) Only if you didn't install hebrew_tokenizer use:"
   ]
  },
  {
   "cell_type": "code",
   "execution_count": 32,
   "metadata": {
    "ExecuteTime": {
     "end_time": "2023-08-19T17:41:05.887547400Z",
     "start_time": "2023-08-19T17:41:04.941253500Z"
    }
   },
   "outputs": [],
   "source": [
    "# Hebrew tokenizer installation:\n",
    "\n",
    "# unmark if you want to use and need to install:\n",
    "# !pip install hebrew_tokenizer"
   ]
  },
  {
   "cell_type": "code",
   "execution_count": 33,
   "metadata": {
    "ExecuteTime": {
     "end_time": "2023-08-19T17:41:05.895549300Z",
     "start_time": "2023-08-19T17:41:04.974693400Z"
    }
   },
   "outputs": [],
   "source": [
    "# Hebrew tokenizer import:\n",
    "\n",
    "# unmark if you want to use:\n",
    "import hebrew_tokenizer as ht"
   ]
  },
  {
   "cell_type": "markdown",
   "metadata": {},
   "source": [
    "### Reading input files\n",
    "Reading input files for train annotated corpus (raw text data) corpus and for the test corpus"
   ]
  },
  {
   "cell_type": "code",
   "execution_count": 34,
   "metadata": {
    "ExecuteTime": {
     "end_time": "2023-08-19T17:41:05.903550200Z",
     "start_time": "2023-08-19T17:41:04.990833500Z"
    }
   },
   "outputs": [],
   "source": [
    "train_filename = 'annotated_corpus_for_train.csv'\n",
    "test_filename  = 'corpus_for_test.csv'\n",
    "df_train = pd.read_csv(train_filename, index_col=None, encoding='utf-8')\n",
    "df_test  = pd.read_csv(test_filename, index_col=None, encoding='utf-8')"
   ]
  },
  {
   "cell_type": "code",
   "execution_count": 35,
   "metadata": {
    "ExecuteTime": {
     "end_time": "2023-08-19T17:41:05.920640200Z",
     "start_time": "2023-08-19T17:41:05.663397100Z"
    }
   },
   "outputs": [
    {
     "data": {
      "text/plain": "                                               story gender\n0  כשחבר הזמין אותי לחול, לא באמת חשבתי שזה יקרה,...      m\n1  לפני שהתגייסתי לצבא עשיתי כל מני מיונים ליחידו...      m\n2  מאז שהתחילו הלימודים חלומו של כל סטודנט זה הפנ...      f\n3  כשהייתי ילד, מטוסים היה הדבר שהכי ריתק אותי. ב...      m\n4  ‏הייתי מדריכה בכפר נוער ומתאם הכפר היינו צריכי...      f\n5  לפני כ3 חודשים טסתי לרומא למשך שבוע. טסתי במטו...      f\n6  אני כבר שנתיים נשוי והשנה אני ואישתי סוף סוף י...      m\n7  השנה התחלנו שיפוץ בדירה שלנו בתל אביב. הדירה ה...      f",
      "text/html": "<div>\n<style scoped>\n    .dataframe tbody tr th:only-of-type {\n        vertical-align: middle;\n    }\n\n    .dataframe tbody tr th {\n        vertical-align: top;\n    }\n\n    .dataframe thead th {\n        text-align: right;\n    }\n</style>\n<table border=\"1\" class=\"dataframe\">\n  <thead>\n    <tr style=\"text-align: right;\">\n      <th></th>\n      <th>story</th>\n      <th>gender</th>\n    </tr>\n  </thead>\n  <tbody>\n    <tr>\n      <th>0</th>\n      <td>כשחבר הזמין אותי לחול, לא באמת חשבתי שזה יקרה,...</td>\n      <td>m</td>\n    </tr>\n    <tr>\n      <th>1</th>\n      <td>לפני שהתגייסתי לצבא עשיתי כל מני מיונים ליחידו...</td>\n      <td>m</td>\n    </tr>\n    <tr>\n      <th>2</th>\n      <td>מאז שהתחילו הלימודים חלומו של כל סטודנט זה הפנ...</td>\n      <td>f</td>\n    </tr>\n    <tr>\n      <th>3</th>\n      <td>כשהייתי ילד, מטוסים היה הדבר שהכי ריתק אותי. ב...</td>\n      <td>m</td>\n    </tr>\n    <tr>\n      <th>4</th>\n      <td>‏הייתי מדריכה בכפר נוער ומתאם הכפר היינו צריכי...</td>\n      <td>f</td>\n    </tr>\n    <tr>\n      <th>5</th>\n      <td>לפני כ3 חודשים טסתי לרומא למשך שבוע. טסתי במטו...</td>\n      <td>f</td>\n    </tr>\n    <tr>\n      <th>6</th>\n      <td>אני כבר שנתיים נשוי והשנה אני ואישתי סוף סוף י...</td>\n      <td>m</td>\n    </tr>\n    <tr>\n      <th>7</th>\n      <td>השנה התחלנו שיפוץ בדירה שלנו בתל אביב. הדירה ה...</td>\n      <td>f</td>\n    </tr>\n  </tbody>\n</table>\n</div>"
     },
     "execution_count": 35,
     "metadata": {},
     "output_type": "execute_result"
    },
    {
     "data": {
      "text/plain": "(753, 2)"
     },
     "execution_count": 35,
     "metadata": {},
     "output_type": "execute_result"
    }
   ],
   "source": [
    "df_train.head(8)\n",
    "df_train.shape"
   ]
  },
  {
   "cell_type": "code",
   "execution_count": 36,
   "metadata": {
    "ExecuteTime": {
     "end_time": "2023-08-19T17:41:05.921674800Z",
     "start_time": "2023-08-19T17:41:05.666990800Z"
    }
   },
   "outputs": [
    {
     "data": {
      "text/plain": "   test_example_id                                              story\n0                0  כל קיץ אני והמשפחה נוסעים לארצות הברית לוס אנג...\n1                1  הגעתי לשירות המדינה אחרי שנתיים כפעיל בתנועת \"...\n2                2  אחת האהבות הגדולות שלי אלו הכלבים שלי ושל אישת...",
      "text/html": "<div>\n<style scoped>\n    .dataframe tbody tr th:only-of-type {\n        vertical-align: middle;\n    }\n\n    .dataframe tbody tr th {\n        vertical-align: top;\n    }\n\n    .dataframe thead th {\n        text-align: right;\n    }\n</style>\n<table border=\"1\" class=\"dataframe\">\n  <thead>\n    <tr style=\"text-align: right;\">\n      <th></th>\n      <th>test_example_id</th>\n      <th>story</th>\n    </tr>\n  </thead>\n  <tbody>\n    <tr>\n      <th>0</th>\n      <td>0</td>\n      <td>כל קיץ אני והמשפחה נוסעים לארצות הברית לוס אנג...</td>\n    </tr>\n    <tr>\n      <th>1</th>\n      <td>1</td>\n      <td>הגעתי לשירות המדינה אחרי שנתיים כפעיל בתנועת \"...</td>\n    </tr>\n    <tr>\n      <th>2</th>\n      <td>2</td>\n      <td>אחת האהבות הגדולות שלי אלו הכלבים שלי ושל אישת...</td>\n    </tr>\n  </tbody>\n</table>\n</div>"
     },
     "execution_count": 36,
     "metadata": {},
     "output_type": "execute_result"
    },
    {
     "data": {
      "text/plain": "(323, 2)"
     },
     "execution_count": 36,
     "metadata": {},
     "output_type": "execute_result"
    }
   ],
   "source": [
    "df_test.head(3)\n",
    "df_test.shape"
   ]
  },
  {
   "cell_type": "markdown",
   "metadata": {},
   "source": [
    "### Your implementation:\n",
    "Write your code solution in the following code-cells"
   ]
  },
  {
   "cell_type": "markdown",
   "source": [
    " Preprocessing"
   ],
   "metadata": {
    "collapsed": false
   }
  },
  {
   "cell_type": "code",
   "execution_count": 37,
   "metadata": {
    "ExecuteTime": {
     "end_time": "2023-08-19T17:41:05.921674800Z",
     "start_time": "2023-08-19T17:41:05.666990800Z"
    }
   },
   "outputs": [],
   "source": [
    "# YOUR CODE HERE\n",
    "def preprocess_text(text):\n",
    "    text = text.lower()\n",
    "    text = re.sub(r'[^א-ת\\s]', '', text)\n",
    "    tokens = text.split()\n",
    "    return ' '.join(tokens)"
   ]
  },
  {
   "cell_type": "code",
   "execution_count": 38,
   "metadata": {
    "ExecuteTime": {
     "end_time": "2023-08-19T17:41:05.927688800Z",
     "start_time": "2023-08-19T17:41:05.666990800Z"
    }
   },
   "outputs": [
    {
     "data": {
      "text/plain": "                                               story  \\\n0  כשחבר הזמין אותי לחול, לא באמת חשבתי שזה יקרה,...   \n1  לפני שהתגייסתי לצבא עשיתי כל מני מיונים ליחידו...   \n2  מאז שהתחילו הלימודים חלומו של כל סטודנט זה הפנ...   \n3  כשהייתי ילד, מטוסים היה הדבר שהכי ריתק אותי. ב...   \n4  ‏הייתי מדריכה בכפר נוער ומתאם הכפר היינו צריכי...   \n\n                                     processed_story  \n0  כשחבר הזמין אותי לחול לא באמת חשבתי שזה יקרה פ...  \n1  לפני שהתגייסתי לצבא עשיתי כל מני מיונים ליחידו...  \n2  מאז שהתחילו הלימודים חלומו של כל סטודנט זה הפנ...  \n3  כשהייתי ילד מטוסים היה הדבר שהכי ריתק אותי בתו...  \n4  הייתי מדריכה בכפר נוער ומתאם הכפר היינו צריכים...  ",
      "text/html": "<div>\n<style scoped>\n    .dataframe tbody tr th:only-of-type {\n        vertical-align: middle;\n    }\n\n    .dataframe tbody tr th {\n        vertical-align: top;\n    }\n\n    .dataframe thead th {\n        text-align: right;\n    }\n</style>\n<table border=\"1\" class=\"dataframe\">\n  <thead>\n    <tr style=\"text-align: right;\">\n      <th></th>\n      <th>story</th>\n      <th>processed_story</th>\n    </tr>\n  </thead>\n  <tbody>\n    <tr>\n      <th>0</th>\n      <td>כשחבר הזמין אותי לחול, לא באמת חשבתי שזה יקרה,...</td>\n      <td>כשחבר הזמין אותי לחול לא באמת חשבתי שזה יקרה פ...</td>\n    </tr>\n    <tr>\n      <th>1</th>\n      <td>לפני שהתגייסתי לצבא עשיתי כל מני מיונים ליחידו...</td>\n      <td>לפני שהתגייסתי לצבא עשיתי כל מני מיונים ליחידו...</td>\n    </tr>\n    <tr>\n      <th>2</th>\n      <td>מאז שהתחילו הלימודים חלומו של כל סטודנט זה הפנ...</td>\n      <td>מאז שהתחילו הלימודים חלומו של כל סטודנט זה הפנ...</td>\n    </tr>\n    <tr>\n      <th>3</th>\n      <td>כשהייתי ילד, מטוסים היה הדבר שהכי ריתק אותי. ב...</td>\n      <td>כשהייתי ילד מטוסים היה הדבר שהכי ריתק אותי בתו...</td>\n    </tr>\n    <tr>\n      <th>4</th>\n      <td>‏הייתי מדריכה בכפר נוער ומתאם הכפר היינו צריכי...</td>\n      <td>הייתי מדריכה בכפר נוער ומתאם הכפר היינו צריכים...</td>\n    </tr>\n  </tbody>\n</table>\n</div>"
     },
     "execution_count": 38,
     "metadata": {},
     "output_type": "execute_result"
    }
   ],
   "source": [
    "# YOUR CODE HERE\n",
    "df_train['processed_story'] = df_train['story'].apply(preprocess_text)\n",
    "df_train[['story', 'processed_story']].head()"
   ]
  },
  {
   "cell_type": "markdown",
   "source": [
    "Feature extraction"
   ],
   "metadata": {
    "collapsed": false
   }
  },
  {
   "cell_type": "code",
   "execution_count": 39,
   "metadata": {
    "ExecuteTime": {
     "end_time": "2023-08-19T17:41:06.757759100Z",
     "start_time": "2023-08-19T17:41:05.862522400Z"
    }
   },
   "outputs": [
    {
     "data": {
      "text/plain": "(753, 5000)"
     },
     "execution_count": 39,
     "metadata": {},
     "output_type": "execute_result"
    }
   ],
   "source": [
    "# YOUR CODE HERE\n",
    "\n",
    "\n",
    "tfidf_vectorizer = TfidfVectorizer(max_features=5000)\n",
    "\n",
    "X_train_tfidf = tfidf_vectorizer.fit_transform(df_train['processed_story'])\n",
    "y_train = df_train['gender']\n",
    "\n",
    "X_train_tfidf.shape\n"
   ]
  },
  {
   "cell_type": "code",
   "execution_count": 39,
   "outputs": [],
   "source": [],
   "metadata": {
    "collapsed": false,
    "ExecuteTime": {
     "end_time": "2023-08-19T17:41:06.783394200Z",
     "start_time": "2023-08-19T17:41:06.686979900Z"
    }
   }
  },
  {
   "cell_type": "code",
   "execution_count": 45,
   "outputs": [
    {
     "ename": "SyntaxError",
     "evalue": "invalid syntax (1248772298.py, line 1)",
     "output_type": "error",
     "traceback": [
      "\u001B[1;36m  Cell \u001B[1;32mIn[45], line 1\u001B[1;36m\u001B[0m\n\u001B[1;33m    SVM model\u001B[0m\n\u001B[1;37m        ^\u001B[0m\n\u001B[1;31mSyntaxError\u001B[0m\u001B[1;31m:\u001B[0m invalid syntax\n"
     ]
    }
   ],
   "source": [],
   "metadata": {
    "collapsed": false,
    "ExecuteTime": {
     "end_time": "2023-08-19T17:45:11.564062400Z",
     "start_time": "2023-08-19T17:45:11.523261400Z"
    }
   }
  },
  {
   "cell_type": "markdown",
   "source": [
    "SVM model"
   ],
   "metadata": {
    "collapsed": false
   }
  },
  {
   "cell_type": "code",
   "execution_count": 40,
   "metadata": {
    "ExecuteTime": {
     "end_time": "2023-08-19T17:41:12.798287600Z",
     "start_time": "2023-08-19T17:41:06.708358400Z"
    }
   },
   "outputs": [
    {
     "data": {
      "text/plain": "0.50226780959542"
     },
     "execution_count": 40,
     "metadata": {},
     "output_type": "execute_result"
    }
   ],
   "source": [
    "# Add as many code cells as you need\n",
    "# YOUR CODE HERE\n",
    "from sklearn.svm import SVC\n",
    "\n",
    "# Initialize an SVM model\n",
    "svm = SVC(kernel='linear', random_state=42)\n",
    "\n",
    "# Use cross-validation to evaluate the model's performance on f1 score\n",
    "f1_scores_svm = cross_val_score(svm,X_train_tfidf, y_train, cv=5, scoring='f1_macro')\n",
    "\n",
    "# Calculate the average F1 score \n",
    "avg_f1_score_svm = f1_scores_svm.mean()\n",
    "\n",
    "avg_f1_score_svm\n"
   ]
  },
  {
   "cell_type": "code",
   "execution_count": 41,
   "metadata": {
    "ExecuteTime": {
     "end_time": "2023-08-19T17:42:05.599186200Z",
     "start_time": "2023-08-19T17:41:12.820298300Z"
    }
   },
   "outputs": [
    {
     "name": "stdout",
     "output_type": "stream",
     "text": [
      "Fitting 5 folds for each of 18 candidates, totalling 90 fits\n"
     ]
    },
    {
     "data": {
      "text/plain": "GridSearchCV(cv=5,\n             estimator=Pipeline(steps=[('tfidf', TfidfVectorizer()),\n                                       ('svm',\n                                        SVC(kernel='linear',\n                                            random_state=42))]),\n             n_jobs=-1,\n             param_grid={'svm__C': [0.1, 1, 10],\n                         'tfidf__max_features': [4000, 5000, 6000],\n                         'tfidf__ngram_range': [(1, 1), (1, 2)]},\n             scoring='f1_macro', verbose=1)",
      "text/html": "<style>#sk-container-id-3 {color: black;}#sk-container-id-3 pre{padding: 0;}#sk-container-id-3 div.sk-toggleable {background-color: white;}#sk-container-id-3 label.sk-toggleable__label {cursor: pointer;display: block;width: 100%;margin-bottom: 0;padding: 0.3em;box-sizing: border-box;text-align: center;}#sk-container-id-3 label.sk-toggleable__label-arrow:before {content: \"▸\";float: left;margin-right: 0.25em;color: #696969;}#sk-container-id-3 label.sk-toggleable__label-arrow:hover:before {color: black;}#sk-container-id-3 div.sk-estimator:hover label.sk-toggleable__label-arrow:before {color: black;}#sk-container-id-3 div.sk-toggleable__content {max-height: 0;max-width: 0;overflow: hidden;text-align: left;background-color: #f0f8ff;}#sk-container-id-3 div.sk-toggleable__content pre {margin: 0.2em;color: black;border-radius: 0.25em;background-color: #f0f8ff;}#sk-container-id-3 input.sk-toggleable__control:checked~div.sk-toggleable__content {max-height: 200px;max-width: 100%;overflow: auto;}#sk-container-id-3 input.sk-toggleable__control:checked~label.sk-toggleable__label-arrow:before {content: \"▾\";}#sk-container-id-3 div.sk-estimator input.sk-toggleable__control:checked~label.sk-toggleable__label {background-color: #d4ebff;}#sk-container-id-3 div.sk-label input.sk-toggleable__control:checked~label.sk-toggleable__label {background-color: #d4ebff;}#sk-container-id-3 input.sk-hidden--visually {border: 0;clip: rect(1px 1px 1px 1px);clip: rect(1px, 1px, 1px, 1px);height: 1px;margin: -1px;overflow: hidden;padding: 0;position: absolute;width: 1px;}#sk-container-id-3 div.sk-estimator {font-family: monospace;background-color: #f0f8ff;border: 1px dotted black;border-radius: 0.25em;box-sizing: border-box;margin-bottom: 0.5em;}#sk-container-id-3 div.sk-estimator:hover {background-color: #d4ebff;}#sk-container-id-3 div.sk-parallel-item::after {content: \"\";width: 100%;border-bottom: 1px solid gray;flex-grow: 1;}#sk-container-id-3 div.sk-label:hover label.sk-toggleable__label {background-color: #d4ebff;}#sk-container-id-3 div.sk-serial::before {content: \"\";position: absolute;border-left: 1px solid gray;box-sizing: border-box;top: 0;bottom: 0;left: 50%;z-index: 0;}#sk-container-id-3 div.sk-serial {display: flex;flex-direction: column;align-items: center;background-color: white;padding-right: 0.2em;padding-left: 0.2em;position: relative;}#sk-container-id-3 div.sk-item {position: relative;z-index: 1;}#sk-container-id-3 div.sk-parallel {display: flex;align-items: stretch;justify-content: center;background-color: white;position: relative;}#sk-container-id-3 div.sk-item::before, #sk-container-id-3 div.sk-parallel-item::before {content: \"\";position: absolute;border-left: 1px solid gray;box-sizing: border-box;top: 0;bottom: 0;left: 50%;z-index: -1;}#sk-container-id-3 div.sk-parallel-item {display: flex;flex-direction: column;z-index: 1;position: relative;background-color: white;}#sk-container-id-3 div.sk-parallel-item:first-child::after {align-self: flex-end;width: 50%;}#sk-container-id-3 div.sk-parallel-item:last-child::after {align-self: flex-start;width: 50%;}#sk-container-id-3 div.sk-parallel-item:only-child::after {width: 0;}#sk-container-id-3 div.sk-dashed-wrapped {border: 1px dashed gray;margin: 0 0.4em 0.5em 0.4em;box-sizing: border-box;padding-bottom: 0.4em;background-color: white;}#sk-container-id-3 div.sk-label label {font-family: monospace;font-weight: bold;display: inline-block;line-height: 1.2em;}#sk-container-id-3 div.sk-label-container {text-align: center;}#sk-container-id-3 div.sk-container {/* jupyter's `normalize.less` sets `[hidden] { display: none; }` but bootstrap.min.css set `[hidden] { display: none !important; }` so we also need the `!important` here to be able to override the default hidden behavior on the sphinx rendered scikit-learn.org. See: https://github.com/scikit-learn/scikit-learn/issues/21755 */display: inline-block !important;position: relative;}#sk-container-id-3 div.sk-text-repr-fallback {display: none;}</style><div id=\"sk-container-id-3\" class=\"sk-top-container\"><div class=\"sk-text-repr-fallback\"><pre>GridSearchCV(cv=5,\n             estimator=Pipeline(steps=[(&#x27;tfidf&#x27;, TfidfVectorizer()),\n                                       (&#x27;svm&#x27;,\n                                        SVC(kernel=&#x27;linear&#x27;,\n                                            random_state=42))]),\n             n_jobs=-1,\n             param_grid={&#x27;svm__C&#x27;: [0.1, 1, 10],\n                         &#x27;tfidf__max_features&#x27;: [4000, 5000, 6000],\n                         &#x27;tfidf__ngram_range&#x27;: [(1, 1), (1, 2)]},\n             scoring=&#x27;f1_macro&#x27;, verbose=1)</pre><b>In a Jupyter environment, please rerun this cell to show the HTML representation or trust the notebook. <br />On GitHub, the HTML representation is unable to render, please try loading this page with nbviewer.org.</b></div><div class=\"sk-container\" hidden><div class=\"sk-item sk-dashed-wrapped\"><div class=\"sk-label-container\"><div class=\"sk-label sk-toggleable\"><input class=\"sk-toggleable__control sk-hidden--visually\" id=\"sk-estimator-id-9\" type=\"checkbox\" ><label for=\"sk-estimator-id-9\" class=\"sk-toggleable__label sk-toggleable__label-arrow\">GridSearchCV</label><div class=\"sk-toggleable__content\"><pre>GridSearchCV(cv=5,\n             estimator=Pipeline(steps=[(&#x27;tfidf&#x27;, TfidfVectorizer()),\n                                       (&#x27;svm&#x27;,\n                                        SVC(kernel=&#x27;linear&#x27;,\n                                            random_state=42))]),\n             n_jobs=-1,\n             param_grid={&#x27;svm__C&#x27;: [0.1, 1, 10],\n                         &#x27;tfidf__max_features&#x27;: [4000, 5000, 6000],\n                         &#x27;tfidf__ngram_range&#x27;: [(1, 1), (1, 2)]},\n             scoring=&#x27;f1_macro&#x27;, verbose=1)</pre></div></div></div><div class=\"sk-parallel\"><div class=\"sk-parallel-item\"><div class=\"sk-item\"><div class=\"sk-label-container\"><div class=\"sk-label sk-toggleable\"><input class=\"sk-toggleable__control sk-hidden--visually\" id=\"sk-estimator-id-10\" type=\"checkbox\" ><label for=\"sk-estimator-id-10\" class=\"sk-toggleable__label sk-toggleable__label-arrow\">estimator: Pipeline</label><div class=\"sk-toggleable__content\"><pre>Pipeline(steps=[(&#x27;tfidf&#x27;, TfidfVectorizer()),\n                (&#x27;svm&#x27;, SVC(kernel=&#x27;linear&#x27;, random_state=42))])</pre></div></div></div><div class=\"sk-serial\"><div class=\"sk-item\"><div class=\"sk-serial\"><div class=\"sk-item\"><div class=\"sk-estimator sk-toggleable\"><input class=\"sk-toggleable__control sk-hidden--visually\" id=\"sk-estimator-id-11\" type=\"checkbox\" ><label for=\"sk-estimator-id-11\" class=\"sk-toggleable__label sk-toggleable__label-arrow\">TfidfVectorizer</label><div class=\"sk-toggleable__content\"><pre>TfidfVectorizer()</pre></div></div></div><div class=\"sk-item\"><div class=\"sk-estimator sk-toggleable\"><input class=\"sk-toggleable__control sk-hidden--visually\" id=\"sk-estimator-id-12\" type=\"checkbox\" ><label for=\"sk-estimator-id-12\" class=\"sk-toggleable__label sk-toggleable__label-arrow\">SVC</label><div class=\"sk-toggleable__content\"><pre>SVC(kernel=&#x27;linear&#x27;, random_state=42)</pre></div></div></div></div></div></div></div></div></div></div></div></div>"
     },
     "execution_count": 41,
     "metadata": {},
     "output_type": "execute_result"
    },
    {
     "data": {
      "text/plain": "({'svm__C': 10, 'tfidf__max_features': 4000, 'tfidf__ngram_range': (1, 1)},\n 0.7003081360654668)"
     },
     "execution_count": 41,
     "metadata": {},
     "output_type": "execute_result"
    }
   ],
   "source": [
    "from sklearn.model_selection import GridSearchCV\n",
    "\n",
    "# Define a parameter grid for the grid search\n",
    "param_grid = {\n",
    "    'tfidf__max_features': [4000, 5000, 6000],\n",
    "    'tfidf__ngram_range': [(1, 1), (1, 2)],\n",
    "    'svm__C': [0.1, 1, 10]\n",
    "}\n",
    "\n",
    "# Create a pipeline that first applies the TF-IDF vectorizer and then the SVM model\n",
    "from sklearn.pipeline import Pipeline\n",
    "pipeline = Pipeline([\n",
    "    ('tfidf', TfidfVectorizer()),\n",
    "    ('svm', SVC(kernel='linear', random_state=42))\n",
    "])\n",
    "\n",
    "# Initialize the grid search\n",
    "grid_search = GridSearchCV(pipeline, param_grid, cv=5, scoring='f1_macro', n_jobs=-1, verbose=1)\n",
    "\n",
    "# Conduct the grid search\n",
    "grid_search.fit(df_train['processed_story'], y_train)\n",
    "\n",
    "# Extract the best parameters and the best score from the grid search\n",
    "best_params = grid_search.best_params_\n",
    "best_score = grid_search.best_score_\n",
    "\n",
    "best_params, best_score\n"
   ]
  },
  {
   "cell_type": "markdown",
   "metadata": {},
   "source": [
    "### Save output to csv (optional)\n",
    "After you're done save your output to the 'classification_results.csv' csv file.<br/>\n",
    "We assume that the dataframe with your results contain the following columns:\n",
    "* column 1 (left column): 'test_example_id'  - the same id associated to each of the test stories to be predicted.\n",
    "* column 2 (right column): 'predicted_category' - the predicted gender value for each of the associated story. \n",
    "\n",
    "Assuming your predicted values are in the `df_predicted` dataframe, you should save you're results as following:"
   ]
  },
  {
   "cell_type": "code",
   "execution_count": 44,
   "metadata": {
    "ExecuteTime": {
     "end_time": "2023-08-19T17:42:29.948256600Z",
     "start_time": "2023-08-19T17:42:29.792756800Z"
    }
   },
   "outputs": [
    {
     "data": {
      "text/plain": "                                                 story gender  \\\n0    כשחבר הזמין אותי לחול, לא באמת חשבתי שזה יקרה,...      m   \n1    לפני שהתגייסתי לצבא עשיתי כל מני מיונים ליחידו...      m   \n2    מאז שהתחילו הלימודים חלומו של כל סטודנט זה הפנ...      f   \n3    כשהייתי ילד, מטוסים היה הדבר שהכי ריתק אותי. ב...      m   \n4    ‏הייתי מדריכה בכפר נוער ומתאם הכפר היינו צריכי...      f   \n..                                                 ...    ...   \n748  אז לפני שנה בדיוק טסתי לאמסטרדם עם שני חברים ט...      m   \n749  שבוע שעבר העליתי באופן ספונטני רעיון לנסוע עם ...      m   \n750  לפני חודש עברנו לדירה בבית שמש בעקבות משפחתי ה...      m   \n751  החוויה אותה ארצה לשתף התרחשה לפני כמה חודשים, ...      f   \n752  פעם כשהייתי בחו\" \"ל ,בקבולומביה כחלק מהטיול של...      m   \n\n                                       processed_story  \n0    כשחבר הזמין אותי לחול לא באמת חשבתי שזה יקרה פ...  \n1    לפני שהתגייסתי לצבא עשיתי כל מני מיונים ליחידו...  \n2    מאז שהתחילו הלימודים חלומו של כל סטודנט זה הפנ...  \n3    כשהייתי ילד מטוסים היה הדבר שהכי ריתק אותי בתו...  \n4    הייתי מדריכה בכפר נוער ומתאם הכפר היינו צריכים...  \n..                                                 ...  \n748  אז לפני שנה בדיוק טסתי לאמסטרדם עם שני חברים ט...  \n749  שבוע שעבר העליתי באופן ספונטני רעיון לנסוע עם ...  \n750  לפני חודש עברנו לדירה בבית שמש בעקבות משפחתי ה...  \n751  החוויה אותה ארצה לשתף התרחשה לפני כמה חודשים ז...  \n752  פעם כשהייתי בחו ל בקבולומביה כחלק מהטיול שלי ל...  \n\n[753 rows x 3 columns]",
      "text/html": "<div>\n<style scoped>\n    .dataframe tbody tr th:only-of-type {\n        vertical-align: middle;\n    }\n\n    .dataframe tbody tr th {\n        vertical-align: top;\n    }\n\n    .dataframe thead th {\n        text-align: right;\n    }\n</style>\n<table border=\"1\" class=\"dataframe\">\n  <thead>\n    <tr style=\"text-align: right;\">\n      <th></th>\n      <th>story</th>\n      <th>gender</th>\n      <th>processed_story</th>\n    </tr>\n  </thead>\n  <tbody>\n    <tr>\n      <th>0</th>\n      <td>כשחבר הזמין אותי לחול, לא באמת חשבתי שזה יקרה,...</td>\n      <td>m</td>\n      <td>כשחבר הזמין אותי לחול לא באמת חשבתי שזה יקרה פ...</td>\n    </tr>\n    <tr>\n      <th>1</th>\n      <td>לפני שהתגייסתי לצבא עשיתי כל מני מיונים ליחידו...</td>\n      <td>m</td>\n      <td>לפני שהתגייסתי לצבא עשיתי כל מני מיונים ליחידו...</td>\n    </tr>\n    <tr>\n      <th>2</th>\n      <td>מאז שהתחילו הלימודים חלומו של כל סטודנט זה הפנ...</td>\n      <td>f</td>\n      <td>מאז שהתחילו הלימודים חלומו של כל סטודנט זה הפנ...</td>\n    </tr>\n    <tr>\n      <th>3</th>\n      <td>כשהייתי ילד, מטוסים היה הדבר שהכי ריתק אותי. ב...</td>\n      <td>m</td>\n      <td>כשהייתי ילד מטוסים היה הדבר שהכי ריתק אותי בתו...</td>\n    </tr>\n    <tr>\n      <th>4</th>\n      <td>‏הייתי מדריכה בכפר נוער ומתאם הכפר היינו צריכי...</td>\n      <td>f</td>\n      <td>הייתי מדריכה בכפר נוער ומתאם הכפר היינו צריכים...</td>\n    </tr>\n    <tr>\n      <th>...</th>\n      <td>...</td>\n      <td>...</td>\n      <td>...</td>\n    </tr>\n    <tr>\n      <th>748</th>\n      <td>אז לפני שנה בדיוק טסתי לאמסטרדם עם שני חברים ט...</td>\n      <td>m</td>\n      <td>אז לפני שנה בדיוק טסתי לאמסטרדם עם שני חברים ט...</td>\n    </tr>\n    <tr>\n      <th>749</th>\n      <td>שבוע שעבר העליתי באופן ספונטני רעיון לנסוע עם ...</td>\n      <td>m</td>\n      <td>שבוע שעבר העליתי באופן ספונטני רעיון לנסוע עם ...</td>\n    </tr>\n    <tr>\n      <th>750</th>\n      <td>לפני חודש עברנו לדירה בבית שמש בעקבות משפחתי ה...</td>\n      <td>m</td>\n      <td>לפני חודש עברנו לדירה בבית שמש בעקבות משפחתי ה...</td>\n    </tr>\n    <tr>\n      <th>751</th>\n      <td>החוויה אותה ארצה לשתף התרחשה לפני כמה חודשים, ...</td>\n      <td>f</td>\n      <td>החוויה אותה ארצה לשתף התרחשה לפני כמה חודשים ז...</td>\n    </tr>\n    <tr>\n      <th>752</th>\n      <td>פעם כשהייתי בחו\" \"ל ,בקבולומביה כחלק מהטיול של...</td>\n      <td>m</td>\n      <td>פעם כשהייתי בחו ל בקבולומביה כחלק מהטיול שלי ל...</td>\n    </tr>\n  </tbody>\n</table>\n<p>753 rows × 3 columns</p>\n</div>"
     },
     "execution_count": 44,
     "metadata": {},
     "output_type": "execute_result"
    }
   ],
   "source": [
    "df_predicted=df_train\n",
    "df_predicted.to_csv('classification_results.csv',index=False)\n"
   ]
  }
 ],
 "metadata": {
  "celltoolbar": "Create Assignment",
  "kernelspec": {
   "display_name": "Python 3 (ipykernel)",
   "language": "python",
   "name": "python3"
  },
  "language_info": {
   "codemirror_mode": {
    "name": "ipython",
    "version": 3
   },
   "file_extension": ".py",
   "mimetype": "text/x-python",
   "name": "python",
   "nbconvert_exporter": "python",
   "pygments_lexer": "ipython3",
   "version": "3.9.16"
  }
 },
 "nbformat": 4,
 "nbformat_minor": 4
}
